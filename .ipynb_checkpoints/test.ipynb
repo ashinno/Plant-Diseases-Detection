{
 "cells": [
  {
   "cell_type": "code",
   "id": "initial_id",
   "metadata": {
    "collapsed": true,
    "ExecuteTime": {
     "end_time": "2024-05-21T03:34:59.739166Z",
     "start_time": "2024-05-21T03:34:59.733298Z"
    }
   },
   "source": [
    "import os\n",
    "import torch\n",
    "from torch.utils.data import DataLoader, Dataset\n",
    "from torchvision import transforms\n",
    "from PIL import Image\n",
    "from transformers import ViTForImageClassification\n",
    "from sklearn.model_selection import train_test_split\n",
    "from sklearn.metrics import confusion_matrix, ConfusionMatrixDisplay\n",
    "import matplotlib.pyplot as plt\n",
    "import numpy as np\n",
    "from torch.optim import AdamW\n",
    "from torch.nn import CrossEntropyLoss\n",
    "from tqdm import tqdm\n",
    "\n",
    "# Ensure we use a GPU if available\n",
    "device = torch.device('cuda' if torch.cuda.is_available() else 'cpu')\n",
    "print(device)"
   ],
   "outputs": [
    {
     "name": "stdout",
     "output_type": "stream",
     "text": [
      "cpu\n"
     ]
    }
   ],
   "execution_count": 25
  },
  {
   "metadata": {
    "ExecuteTime": {
     "end_time": "2024-05-21T03:35:00.231996Z",
     "start_time": "2024-05-21T03:34:59.740684Z"
    }
   },
   "cell_type": "code",
   "source": [
    "# Ensure we use a GPU if available\n",
    "device = torch.device('cuda' if torch.cuda.is_available() else 'cpu')\n",
    "\n",
    "# Custom dataset class for loading tomato leaf images and labels\n",
    "class TomatoLeafDataset(Dataset):\n",
    "    def __init__(self, image_paths, labels, transform=None):\n",
    "        self.image_paths = image_paths\n",
    "        self.labels = labels\n",
    "        self.transform = transform\n",
    "\n",
    "    def __len__(self):\n",
    "        return len(self.image_paths)\n",
    "\n",
    "    def __getitem__(self, idx):\n",
    "        image_path = self.image_paths[idx]\n",
    "        image = Image.open(image_path).convert('RGB')\n",
    "        label = self.labels[idx]\n",
    "\n",
    "        if self.transform:\n",
    "            image = self.transform(image)\n",
    "\n",
    "        return image, label\n",
    "\n",
    "# Function to load data from the dataset directory\n",
    "def load_data(data_dir):\n",
    "    classes = os.listdir(data_dir)\n",
    "    classes.sort()  # Ensure the classes are sorted\n",
    "    class_to_idx = {cls_name: idx for idx, cls_name in enumerate(classes)}\n",
    "\n",
    "    image_paths = []\n",
    "    labels = []\n",
    "\n",
    "    for cls_name in classes:\n",
    "        cls_dir = os.path.join(data_dir, cls_name)\n",
    "        for root, _, files in os.walk(cls_dir):\n",
    "            for file in files:\n",
    "                if file.endswith(('.jpg', '.jpeg', '.png')):\n",
    "                    image_paths.append(os.path.join(root, file))\n",
    "                    labels.append(class_to_idx[cls_name])\n",
    "\n",
    "    return image_paths, labels, class_to_idx\n",
    "\n",
    "# Define paths to training and validation datasets\n",
    "data_dir = 'D:\\\\Publish Paper\\\\Dataset plant\\\\PlantDiseasesDataset\\\\train'\n",
    "val_data_dir = 'D:\\\\Publish Paper\\\\Dataset plant\\\\PlantDiseasesDataset\\\\valid'\n",
    "\n",
    "# Load training and validation data\n",
    "train_image_paths, train_labels, class_to_idx = load_data(data_dir)\n",
    "val_image_paths, val_labels, _ = load_data(val_data_dir)\n",
    "class_names = list(class_to_idx.keys())\n",
    "\n",
    "# Define transformations for the images\n",
    "transform = transforms.Compose([\n",
    "    transforms.Resize((224, 224)),\n",
    "    transforms.ToTensor(),\n",
    "    transforms.Normalize(mean=[0.485, 0.456, 0.406], std=[0.229, 0.224, 0.225]),\n",
    "])\n",
    "\n",
    "# Create datasets and dataloaders\n",
    "train_dataset = TomatoLeafDataset(train_image_paths, train_labels, transform=transform)\n",
    "val_dataset = TomatoLeafDataset(val_image_paths, val_labels, transform=transform)\n",
    "\n",
    "train_loader = DataLoader(train_dataset, batch_size=32, shuffle=True)\n",
    "val_loader = DataLoader(val_dataset, batch_size=32, shuffle=False)\n",
    "num_classes = len(class_to_idx)"
   ],
   "id": "dbe0df91f51e96ad",
   "outputs": [],
   "execution_count": 26
  },
  {
   "metadata": {
    "ExecuteTime": {
     "end_time": "2024-05-21T03:35:01.345660Z",
     "start_time": "2024-05-21T03:35:00.234007Z"
    }
   },
   "cell_type": "code",
   "source": [
    "# Load the pre-trained ViT model\n",
    "model = ViTForImageClassification.from_pretrained('google/vit-base-patch16-224-in21k', num_labels=num_classes)\n",
    "model = model.to(device)"
   ],
   "id": "62eef0bfdfdd293b",
   "outputs": [
    {
     "name": "stderr",
     "output_type": "stream",
     "text": [
      "Some weights of ViTForImageClassification were not initialized from the model checkpoint at google/vit-base-patch16-224-in21k and are newly initialized: ['classifier.bias', 'classifier.weight']\n",
      "You should probably TRAIN this model on a down-stream task to be able to use it for predictions and inference.\n"
     ]
    }
   ],
   "execution_count": 27
  },
  {
   "metadata": {
    "ExecuteTime": {
     "end_time": "2024-05-21T03:47:31.768416Z",
     "start_time": "2024-05-21T03:35:01.346665Z"
    }
   },
   "cell_type": "code",
   "source": [
    "# Define the optimizer and loss function\n",
    "optimizer = AdamW(model.parameters(), lr=1e-4)\n",
    "criterion = CrossEntropyLoss()\n",
    "\n",
    "# Training function\n",
    "def train(model, train_loader, val_loader, epochs):\n",
    "    train_losses = []\n",
    "    val_losses = []\n",
    "    val_accuracies = []\n",
    "\n",
    "    for epoch in range(epochs):\n",
    "        model.train()\n",
    "        train_loss = 0\n",
    "\n",
    "        for images, labels in tqdm(train_loader):\n",
    "            images, labels = images.to(device), labels.to(device)\n",
    "            outputs = model(images).logits\n",
    "            loss = criterion(outputs, labels)\n",
    "            optimizer.zero_grad()\n",
    "            loss.backward()\n",
    "            optimizer.step()\n",
    "            train_loss += loss.item()\n",
    "\n",
    "        train_losses.append(train_loss / len(train_loader))\n",
    "        \n",
    "        val_loss, val_accuracy, _, _ = evaluate(model, val_loader)\n",
    "        val_losses.append(val_loss)\n",
    "        val_accuracies.append(val_accuracy)\n",
    "        \n",
    "        print(f'Epoch {epoch+1}/{epochs}, Train Loss: {train_loss/len(train_loader)}, Val Loss: {val_loss}, Val Accuracy: {val_accuracy}')\n",
    "\n",
    "    return train_losses, val_losses, val_accuracies\n",
    "\n",
    "# Evaluation function\n",
    "def evaluate(model, val_loader):\n",
    "    model.eval()\n",
    "    val_loss = 0\n",
    "    correct = 0\n",
    "\n",
    "    all_preds = []\n",
    "    all_labels = []\n",
    "\n",
    "    with torch.no_grad():\n",
    "        for images, labels in val_loader:\n",
    "            images, labels = images.to(device), labels.to(device)\n",
    "            outputs = model(images).logits\n",
    "            loss = criterion(outputs, labels)\n",
    "            val_loss += loss.item()\n",
    "            preds = torch.argmax(outputs, dim=1)\n",
    "            correct += (preds == labels).sum().item()\n",
    "            all_preds.extend(preds.cpu().numpy())\n",
    "            all_labels.extend(labels.cpu().numpy())\n",
    "\n",
    "    val_loss /= len(val_loader)\n",
    "    val_accuracy = correct / len(val_loader.dataset)\n",
    "    \n",
    "    return val_loss, val_accuracy, all_preds, all_labels\n",
    "\n",
    "# Train the model\n",
    "epochs = 10\n",
    "train_losses, val_losses, val_accuracies = train(model, train_loader, val_loader, epochs)"
   ],
   "id": "3f4c30ebf65b39e6",
   "outputs": [
    {
     "name": "stderr",
     "output_type": "stream",
     "text": [
      "100%|██████████| 5/5 [01:14<00:00, 14.89s/it]\n"
     ]
    },
    {
     "name": "stdout",
     "output_type": "stream",
     "text": [
      "Epoch 1/10, Train Loss: 1.4481111288070678, Val Loss: 0.6563681960105896, Val Accuracy: 1.0\n"
     ]
    },
    {
     "name": "stderr",
     "output_type": "stream",
     "text": [
      "100%|██████████| 5/5 [01:08<00:00, 13.75s/it]\n"
     ]
    },
    {
     "name": "stdout",
     "output_type": "stream",
     "text": [
      "Epoch 2/10, Train Loss: 0.5236789345741272, Val Loss: 0.36435672640800476, Val Accuracy: 1.0\n"
     ]
    },
    {
     "name": "stderr",
     "output_type": "stream",
     "text": [
      "100%|██████████| 5/5 [01:08<00:00, 13.73s/it]\n"
     ]
    },
    {
     "name": "stdout",
     "output_type": "stream",
     "text": [
      "Epoch 3/10, Train Loss: 0.3270834505558014, Val Loss: 0.2700076103210449, Val Accuracy: 1.0\n"
     ]
    },
    {
     "name": "stderr",
     "output_type": "stream",
     "text": [
      "100%|██████████| 5/5 [01:09<00:00, 13.95s/it]\n"
     ]
    },
    {
     "name": "stdout",
     "output_type": "stream",
     "text": [
      "Epoch 4/10, Train Loss: 0.25548848509788513, Val Loss: 0.22271445393562317, Val Accuracy: 1.0\n"
     ]
    },
    {
     "name": "stderr",
     "output_type": "stream",
     "text": [
      "100%|██████████| 5/5 [01:10<00:00, 14.06s/it]\n"
     ]
    },
    {
     "name": "stdout",
     "output_type": "stream",
     "text": [
      "Epoch 5/10, Train Loss: 0.21601930856704712, Val Loss: 0.19238905608654022, Val Accuracy: 1.0\n"
     ]
    },
    {
     "name": "stderr",
     "output_type": "stream",
     "text": [
      "100%|██████████| 5/5 [01:09<00:00, 13.93s/it]\n"
     ]
    },
    {
     "name": "stdout",
     "output_type": "stream",
     "text": [
      "Epoch 6/10, Train Loss: 0.18931115865707399, Val Loss: 0.16998766362667084, Val Accuracy: 1.0\n"
     ]
    },
    {
     "name": "stderr",
     "output_type": "stream",
     "text": [
      "100%|██████████| 5/5 [01:09<00:00, 13.90s/it]\n"
     ]
    },
    {
     "name": "stdout",
     "output_type": "stream",
     "text": [
      "Epoch 7/10, Train Loss: 0.16840492486953734, Val Loss: 0.1527673602104187, Val Accuracy: 1.0\n"
     ]
    },
    {
     "name": "stderr",
     "output_type": "stream",
     "text": [
      "100%|██████████| 5/5 [01:10<00:00, 14.06s/it]\n"
     ]
    },
    {
     "name": "stdout",
     "output_type": "stream",
     "text": [
      "Epoch 8/10, Train Loss: 0.15157351791858673, Val Loss: 0.13845518231391907, Val Accuracy: 1.0\n"
     ]
    },
    {
     "name": "stderr",
     "output_type": "stream",
     "text": [
      "100%|██████████| 5/5 [01:08<00:00, 13.80s/it]\n"
     ]
    },
    {
     "name": "stdout",
     "output_type": "stream",
     "text": [
      "Epoch 9/10, Train Loss: 0.14201054573059083, Val Loss: 0.12626121938228607, Val Accuracy: 1.0\n"
     ]
    },
    {
     "name": "stderr",
     "output_type": "stream",
     "text": [
      "100%|██████████| 5/5 [01:09<00:00, 13.91s/it]\n"
     ]
    },
    {
     "name": "stdout",
     "output_type": "stream",
     "text": [
      "Epoch 10/10, Train Loss: 0.12616372257471084, Val Loss: 0.11577530950307846, Val Accuracy: 1.0\n"
     ]
    }
   ],
   "execution_count": 28
  },
  {
   "metadata": {
    "ExecuteTime": {
     "end_time": "2024-05-21T03:47:37.743594Z",
     "start_time": "2024-05-21T03:47:31.786819Z"
    }
   },
   "cell_type": "code",
   "source": [
    "# Evaluate the model on the validation set and get predictions\n",
    "val_loss, val_accuracy, all_preds, all_labels = evaluate(model, val_loader)\n",
    "print(f'Validation Loss: {val_loss}, Validation Accuracy: {val_accuracy}')\n"
   ],
   "id": "34e50bdf69007662",
   "outputs": [
    {
     "name": "stdout",
     "output_type": "stream",
     "text": [
      "Validation Loss: 0.11577530950307846, Validation Accuracy: 1.0\n",
      "Model saved to vit_model.pth\n"
     ]
    }
   ],
   "execution_count": 29
  },
  {
   "metadata": {
    "ExecuteTime": {
     "end_time": "2024-05-21T03:47:39.272292Z",
     "start_time": "2024-05-21T03:47:37.745599Z"
    }
   },
   "cell_type": "code",
   "source": [
    "# Plot training & validation loss and accuracy\n",
    "epochs_range = range(epochs)\n",
    "\n",
    "plt.figure(figsize=(12, 4))\n",
    "plt.subplot(1, 2, 1)\n",
    "plt.plot(epochs_range, train_losses, label='Training Loss')\n",
    "plt.plot(epochs_range, val_losses, label='Validation Loss')\n",
    "plt.legend(loc='upper right')\n",
    "plt.title('Training and Validation Loss')\n",
    "\n",
    "plt.subplot(1, 2, 2)\n",
    "plt.plot(epochs_range, val_accuracies, label='Validation Accuracy')\n",
    "plt.legend(loc='lower right')\n",
    "plt.title('Validation Accuracy')\n",
    "\n",
    "plt.show()\n",
    "\n",
    "# Plot confusion matrix\n",
    "cm = confusion_matrix(all_labels, all_preds)\n",
    "disp = ConfusionMatrixDisplay(confusion_matrix=cm, display_labels=class_names)\n",
    "fig, ax = plt.subplots(figsize=(10, 10))\n",
    "disp.plot(cmap=plt.cm.Blues, ax=ax, xticks_rotation='vertical')\n",
    "plt.title('Confusion Matrix')\n",
    "plt.show()"
   ],
   "id": "691ee269ea2cece7",
   "outputs": [
    {
     "data": {
      "text/plain": [
       "<Figure size 1200x400 with 2 Axes>"
      ],
      "image/png": "[encoded data removed]"
     },
     "metadata": {},
     "output_type": "display_data"
    },
    {
     "name": "stderr",
     "output_type": "stream",
     "text": [
      "D:\\Publish Paper\\ML in Cyber_ash\\Plant_disease_detector\\.venv\\Lib\\site-packages\\sklearn\\metrics\\_classification.py:386: UserWarning: A single label was found in 'y_true' and 'y_pred'. For the confusion matrix to have the correct shape, use the 'labels' parameter to pass all known labels.\n",
      "  warnings.warn(\n"
     ]
    },
    {
     "ename": "ValueError",
     "evalue": "The number of FixedLocator locations (1), usually from a call to set_ticks, does not match the number of labels (10).",
     "output_type": "error",
     "traceback": [
      "\u001B[1;31m---------------------------------------------------------------------------\u001B[0m",
      "\u001B[1;31mValueError\u001B[0m                                Traceback (most recent call last)",
      "Cell \u001B[1;32mIn[30], line 22\u001B[0m\n\u001B[0;32m     20\u001B[0m disp \u001B[38;5;241m=\u001B[39m ConfusionMatrixDisplay(confusion_matrix\u001B[38;5;241m=\u001B[39mcm, display_labels\u001B[38;5;241m=\u001B[39mclass_names)\n\u001B[0;32m     21\u001B[0m fig, ax \u001B[38;5;241m=\u001B[39m plt\u001B[38;5;241m.\u001B[39msubplots(figsize\u001B[38;5;241m=\u001B[39m(\u001B[38;5;241m10\u001B[39m, \u001B[38;5;241m10\u001B[39m))\n\u001B[1;32m---> 22\u001B[0m \u001B[43mdisp\u001B[49m\u001B[38;5;241;43m.\u001B[39;49m\u001B[43mplot\u001B[49m\u001B[43m(\u001B[49m\u001B[43mcmap\u001B[49m\u001B[38;5;241;43m=\u001B[39;49m\u001B[43mplt\u001B[49m\u001B[38;5;241;43m.\u001B[39;49m\u001B[43mcm\u001B[49m\u001B[38;5;241;43m.\u001B[39;49m\u001B[43mBlues\u001B[49m\u001B[43m,\u001B[49m\u001B[43m \u001B[49m\u001B[43max\u001B[49m\u001B[38;5;241;43m=\u001B[39;49m\u001B[43max\u001B[49m\u001B[43m,\u001B[49m\u001B[43m \u001B[49m\u001B[43mxticks_rotation\u001B[49m\u001B[38;5;241;43m=\u001B[39;49m\u001B[38;5;124;43m'\u001B[39;49m\u001B[38;5;124;43mvertical\u001B[39;49m\u001B[38;5;124;43m'\u001B[39;49m\u001B[43m)\u001B[49m\n\u001B[0;32m     23\u001B[0m plt\u001B[38;5;241m.\u001B[39mtitle(\u001B[38;5;124m'\u001B[39m\u001B[38;5;124mConfusion Matrix\u001B[39m\u001B[38;5;124m'\u001B[39m)\n\u001B[0;32m     24\u001B[0m plt\u001B[38;5;241m.\u001B[39mshow()\n",
      "File \u001B[1;32mD:\\Publish Paper\\ML in Cyber_ash\\Plant_disease_detector\\.venv\\Lib\\site-packages\\sklearn\\metrics\\_plot\\confusion_matrix.py:181\u001B[0m, in \u001B[0;36mConfusionMatrixDisplay.plot\u001B[1;34m(self, include_values, cmap, xticks_rotation, values_format, ax, colorbar, im_kw, text_kw)\u001B[0m\n\u001B[0;32m    179\u001B[0m \u001B[38;5;28;01mif\u001B[39;00m colorbar:\n\u001B[0;32m    180\u001B[0m     fig\u001B[38;5;241m.\u001B[39mcolorbar(\u001B[38;5;28mself\u001B[39m\u001B[38;5;241m.\u001B[39mim_, ax\u001B[38;5;241m=\u001B[39max)\n\u001B[1;32m--> 181\u001B[0m \u001B[43max\u001B[49m\u001B[38;5;241;43m.\u001B[39;49m\u001B[43mset\u001B[49m\u001B[43m(\u001B[49m\n\u001B[0;32m    182\u001B[0m \u001B[43m    \u001B[49m\u001B[43mxticks\u001B[49m\u001B[38;5;241;43m=\u001B[39;49m\u001B[43mnp\u001B[49m\u001B[38;5;241;43m.\u001B[39;49m\u001B[43marange\u001B[49m\u001B[43m(\u001B[49m\u001B[43mn_classes\u001B[49m\u001B[43m)\u001B[49m\u001B[43m,\u001B[49m\n\u001B[0;32m    183\u001B[0m \u001B[43m    \u001B[49m\u001B[43myticks\u001B[49m\u001B[38;5;241;43m=\u001B[39;49m\u001B[43mnp\u001B[49m\u001B[38;5;241;43m.\u001B[39;49m\u001B[43marange\u001B[49m\u001B[43m(\u001B[49m\u001B[43mn_classes\u001B[49m\u001B[43m)\u001B[49m\u001B[43m,\u001B[49m\n\u001B[0;32m    184\u001B[0m \u001B[43m    \u001B[49m\u001B[43mxticklabels\u001B[49m\u001B[38;5;241;43m=\u001B[39;49m\u001B[43mdisplay_labels\u001B[49m\u001B[43m,\u001B[49m\n\u001B[0;32m    185\u001B[0m \u001B[43m    \u001B[49m\u001B[43myticklabels\u001B[49m\u001B[38;5;241;43m=\u001B[39;49m\u001B[43mdisplay_labels\u001B[49m\u001B[43m,\u001B[49m\n\u001B[0;32m    186\u001B[0m \u001B[43m    \u001B[49m\u001B[43mylabel\u001B[49m\u001B[38;5;241;43m=\u001B[39;49m\u001B[38;5;124;43m\"\u001B[39;49m\u001B[38;5;124;43mTrue label\u001B[39;49m\u001B[38;5;124;43m\"\u001B[39;49m\u001B[43m,\u001B[49m\n\u001B[0;32m    187\u001B[0m \u001B[43m    \u001B[49m\u001B[43mxlabel\u001B[49m\u001B[38;5;241;43m=\u001B[39;49m\u001B[38;5;124;43m\"\u001B[39;49m\u001B[38;5;124;43mPredicted label\u001B[39;49m\u001B[38;5;124;43m\"\u001B[39;49m\u001B[43m,\u001B[49m\n\u001B[0;32m    188\u001B[0m \u001B[43m\u001B[49m\u001B[43m)\u001B[49m\n\u001B[0;32m    190\u001B[0m ax\u001B[38;5;241m.\u001B[39mset_ylim((n_classes \u001B[38;5;241m-\u001B[39m \u001B[38;5;241m0.5\u001B[39m, \u001B[38;5;241m-\u001B[39m\u001B[38;5;241m0.5\u001B[39m))\n\u001B[0;32m    191\u001B[0m plt\u001B[38;5;241m.\u001B[39msetp(ax\u001B[38;5;241m.\u001B[39mget_xticklabels(), rotation\u001B[38;5;241m=\u001B[39mxticks_rotation)\n",
      "File \u001B[1;32mD:\\Publish Paper\\ML in Cyber_ash\\Plant_disease_detector\\.venv\\Lib\\site-packages\\matplotlib\\artist.py:147\u001B[0m, in \u001B[0;36mArtist.__init_subclass__.<locals>.<lambda>\u001B[1;34m(self, **kwargs)\u001B[0m\n\u001B[0;32m    139\u001B[0m \u001B[38;5;28;01mif\u001B[39;00m \u001B[38;5;129;01mnot\u001B[39;00m \u001B[38;5;28mhasattr\u001B[39m(\u001B[38;5;28mcls\u001B[39m\u001B[38;5;241m.\u001B[39mset, \u001B[38;5;124m'\u001B[39m\u001B[38;5;124m_autogenerated_signature\u001B[39m\u001B[38;5;124m'\u001B[39m):\n\u001B[0;32m    140\u001B[0m     \u001B[38;5;66;03m# Don't overwrite cls.set if the subclass or one of its parents\u001B[39;00m\n\u001B[0;32m    141\u001B[0m     \u001B[38;5;66;03m# has defined a set method set itself.\u001B[39;00m\n\u001B[0;32m    142\u001B[0m     \u001B[38;5;66;03m# If there was no explicit definition, cls.set is inherited from\u001B[39;00m\n\u001B[0;32m    143\u001B[0m     \u001B[38;5;66;03m# the hierarchy of auto-generated set methods, which hold the\u001B[39;00m\n\u001B[0;32m    144\u001B[0m     \u001B[38;5;66;03m# flag _autogenerated_signature.\u001B[39;00m\n\u001B[0;32m    145\u001B[0m     \u001B[38;5;28;01mreturn\u001B[39;00m\n\u001B[1;32m--> 147\u001B[0m \u001B[38;5;28mcls\u001B[39m\u001B[38;5;241m.\u001B[39mset \u001B[38;5;241m=\u001B[39m \u001B[38;5;28;01mlambda\u001B[39;00m \u001B[38;5;28mself\u001B[39m, \u001B[38;5;241m*\u001B[39m\u001B[38;5;241m*\u001B[39mkwargs: \u001B[43mArtist\u001B[49m\u001B[38;5;241;43m.\u001B[39;49m\u001B[43mset\u001B[49m\u001B[43m(\u001B[49m\u001B[38;5;28;43mself\u001B[39;49m\u001B[43m,\u001B[49m\u001B[43m \u001B[49m\u001B[38;5;241;43m*\u001B[39;49m\u001B[38;5;241;43m*\u001B[39;49m\u001B[43mkwargs\u001B[49m\u001B[43m)\u001B[49m\n\u001B[0;32m    148\u001B[0m \u001B[38;5;28mcls\u001B[39m\u001B[38;5;241m.\u001B[39mset\u001B[38;5;241m.\u001B[39m\u001B[38;5;18m__name__\u001B[39m \u001B[38;5;241m=\u001B[39m \u001B[38;5;124m\"\u001B[39m\u001B[38;5;124mset\u001B[39m\u001B[38;5;124m\"\u001B[39m\n\u001B[0;32m    149\u001B[0m \u001B[38;5;28mcls\u001B[39m\u001B[38;5;241m.\u001B[39mset\u001B[38;5;241m.\u001B[39m\u001B[38;5;18m__qualname__\u001B[39m \u001B[38;5;241m=\u001B[39m \u001B[38;5;124mf\u001B[39m\u001B[38;5;124m\"\u001B[39m\u001B[38;5;132;01m{\u001B[39;00m\u001B[38;5;28mcls\u001B[39m\u001B[38;5;241m.\u001B[39m\u001B[38;5;18m__qualname__\u001B[39m\u001B[38;5;132;01m}\u001B[39;00m\u001B[38;5;124m.set\u001B[39m\u001B[38;5;124m\"\u001B[39m\n",
      "File \u001B[1;32mD:\\Publish Paper\\ML in Cyber_ash\\Plant_disease_detector\\.venv\\Lib\\site-packages\\matplotlib\\artist.py:1224\u001B[0m, in \u001B[0;36mArtist.set\u001B[1;34m(self, **kwargs)\u001B[0m\n\u001B[0;32m   1220\u001B[0m \u001B[38;5;28;01mdef\u001B[39;00m \u001B[38;5;21mset\u001B[39m(\u001B[38;5;28mself\u001B[39m, \u001B[38;5;241m*\u001B[39m\u001B[38;5;241m*\u001B[39mkwargs):\n\u001B[0;32m   1221\u001B[0m     \u001B[38;5;66;03m# docstring and signature are auto-generated via\u001B[39;00m\n\u001B[0;32m   1222\u001B[0m     \u001B[38;5;66;03m# Artist._update_set_signature_and_docstring() at the end of the\u001B[39;00m\n\u001B[0;32m   1223\u001B[0m     \u001B[38;5;66;03m# module.\u001B[39;00m\n\u001B[1;32m-> 1224\u001B[0m     \u001B[38;5;28;01mreturn\u001B[39;00m \u001B[38;5;28;43mself\u001B[39;49m\u001B[38;5;241;43m.\u001B[39;49m\u001B[43m_internal_update\u001B[49m\u001B[43m(\u001B[49m\u001B[43mcbook\u001B[49m\u001B[38;5;241;43m.\u001B[39;49m\u001B[43mnormalize_kwargs\u001B[49m\u001B[43m(\u001B[49m\u001B[43mkwargs\u001B[49m\u001B[43m,\u001B[49m\u001B[43m \u001B[49m\u001B[38;5;28;43mself\u001B[39;49m\u001B[43m)\u001B[49m\u001B[43m)\u001B[49m\n",
      "File \u001B[1;32mD:\\Publish Paper\\ML in Cyber_ash\\Plant_disease_detector\\.venv\\Lib\\site-packages\\matplotlib\\artist.py:1216\u001B[0m, in \u001B[0;36mArtist._internal_update\u001B[1;34m(self, kwargs)\u001B[0m\n\u001B[0;32m   1209\u001B[0m \u001B[38;5;28;01mdef\u001B[39;00m \u001B[38;5;21m_internal_update\u001B[39m(\u001B[38;5;28mself\u001B[39m, kwargs):\n\u001B[0;32m   1210\u001B[0m \u001B[38;5;250m    \u001B[39m\u001B[38;5;124;03m\"\"\"\u001B[39;00m\n\u001B[0;32m   1211\u001B[0m \u001B[38;5;124;03m    Update artist properties without prenormalizing them, but generating\u001B[39;00m\n\u001B[0;32m   1212\u001B[0m \u001B[38;5;124;03m    errors as if calling `set`.\u001B[39;00m\n\u001B[0;32m   1213\u001B[0m \n\u001B[0;32m   1214\u001B[0m \u001B[38;5;124;03m    The lack of prenormalization is to maintain backcompatibility.\u001B[39;00m\n\u001B[0;32m   1215\u001B[0m \u001B[38;5;124;03m    \"\"\"\u001B[39;00m\n\u001B[1;32m-> 1216\u001B[0m     \u001B[38;5;28;01mreturn\u001B[39;00m \u001B[38;5;28;43mself\u001B[39;49m\u001B[38;5;241;43m.\u001B[39;49m\u001B[43m_update_props\u001B[49m\u001B[43m(\u001B[49m\n\u001B[0;32m   1217\u001B[0m \u001B[43m        \u001B[49m\u001B[43mkwargs\u001B[49m\u001B[43m,\u001B[49m\u001B[43m \u001B[49m\u001B[38;5;124;43m\"\u001B[39;49m\u001B[38;5;132;43;01m{cls.__name__}\u001B[39;49;00m\u001B[38;5;124;43m.set() got an unexpected keyword argument \u001B[39;49m\u001B[38;5;124;43m\"\u001B[39;49m\n\u001B[0;32m   1218\u001B[0m \u001B[43m        \u001B[49m\u001B[38;5;124;43m\"\u001B[39;49m\u001B[38;5;132;43;01m{prop_name!r}\u001B[39;49;00m\u001B[38;5;124;43m\"\u001B[39;49m\u001B[43m)\u001B[49m\n",
      "File \u001B[1;32mD:\\Publish Paper\\ML in Cyber_ash\\Plant_disease_detector\\.venv\\Lib\\site-packages\\matplotlib\\artist.py:1192\u001B[0m, in \u001B[0;36mArtist._update_props\u001B[1;34m(self, props, errfmt)\u001B[0m\n\u001B[0;32m   1189\u001B[0m             \u001B[38;5;28;01mif\u001B[39;00m \u001B[38;5;129;01mnot\u001B[39;00m \u001B[38;5;28mcallable\u001B[39m(func):\n\u001B[0;32m   1190\u001B[0m                 \u001B[38;5;28;01mraise\u001B[39;00m \u001B[38;5;167;01mAttributeError\u001B[39;00m(\n\u001B[0;32m   1191\u001B[0m                     errfmt\u001B[38;5;241m.\u001B[39mformat(\u001B[38;5;28mcls\u001B[39m\u001B[38;5;241m=\u001B[39m\u001B[38;5;28mtype\u001B[39m(\u001B[38;5;28mself\u001B[39m), prop_name\u001B[38;5;241m=\u001B[39mk))\n\u001B[1;32m-> 1192\u001B[0m             ret\u001B[38;5;241m.\u001B[39mappend(\u001B[43mfunc\u001B[49m\u001B[43m(\u001B[49m\u001B[43mv\u001B[49m\u001B[43m)\u001B[49m)\n\u001B[0;32m   1193\u001B[0m \u001B[38;5;28;01mif\u001B[39;00m ret:\n\u001B[0;32m   1194\u001B[0m     \u001B[38;5;28mself\u001B[39m\u001B[38;5;241m.\u001B[39mpchanged()\n",
      "File \u001B[1;32mD:\\Publish Paper\\ML in Cyber_ash\\Plant_disease_detector\\.venv\\Lib\\site-packages\\matplotlib\\axes\\_base.py:74\u001B[0m, in \u001B[0;36m_axis_method_wrapper.__set_name__.<locals>.wrapper\u001B[1;34m(self, *args, **kwargs)\u001B[0m\n\u001B[0;32m     73\u001B[0m \u001B[38;5;28;01mdef\u001B[39;00m \u001B[38;5;21mwrapper\u001B[39m(\u001B[38;5;28mself\u001B[39m, \u001B[38;5;241m*\u001B[39margs, \u001B[38;5;241m*\u001B[39m\u001B[38;5;241m*\u001B[39mkwargs):\n\u001B[1;32m---> 74\u001B[0m     \u001B[38;5;28;01mreturn\u001B[39;00m \u001B[43mget_method\u001B[49m\u001B[43m(\u001B[49m\u001B[38;5;28;43mself\u001B[39;49m\u001B[43m)\u001B[49m\u001B[43m(\u001B[49m\u001B[38;5;241;43m*\u001B[39;49m\u001B[43margs\u001B[49m\u001B[43m,\u001B[49m\u001B[43m \u001B[49m\u001B[38;5;241;43m*\u001B[39;49m\u001B[38;5;241;43m*\u001B[39;49m\u001B[43mkwargs\u001B[49m\u001B[43m)\u001B[49m\n",
      "File \u001B[1;32mD:\\Publish Paper\\ML in Cyber_ash\\Plant_disease_detector\\.venv\\Lib\\site-packages\\matplotlib\\axis.py:2060\u001B[0m, in \u001B[0;36mAxis.set_ticklabels\u001B[1;34m(self, labels, minor, fontdict, **kwargs)\u001B[0m\n\u001B[0;32m   2056\u001B[0m \u001B[38;5;28;01melif\u001B[39;00m \u001B[38;5;28misinstance\u001B[39m(locator, mticker\u001B[38;5;241m.\u001B[39mFixedLocator):\n\u001B[0;32m   2057\u001B[0m     \u001B[38;5;66;03m# Passing [] as a list of labels is often used as a way to\u001B[39;00m\n\u001B[0;32m   2058\u001B[0m     \u001B[38;5;66;03m# remove all tick labels, so only error for > 0 labels\u001B[39;00m\n\u001B[0;32m   2059\u001B[0m     \u001B[38;5;28;01mif\u001B[39;00m \u001B[38;5;28mlen\u001B[39m(locator\u001B[38;5;241m.\u001B[39mlocs) \u001B[38;5;241m!=\u001B[39m \u001B[38;5;28mlen\u001B[39m(labels) \u001B[38;5;129;01mand\u001B[39;00m \u001B[38;5;28mlen\u001B[39m(labels) \u001B[38;5;241m!=\u001B[39m \u001B[38;5;241m0\u001B[39m:\n\u001B[1;32m-> 2060\u001B[0m         \u001B[38;5;28;01mraise\u001B[39;00m \u001B[38;5;167;01mValueError\u001B[39;00m(\n\u001B[0;32m   2061\u001B[0m             \u001B[38;5;124m\"\u001B[39m\u001B[38;5;124mThe number of FixedLocator locations\u001B[39m\u001B[38;5;124m\"\u001B[39m\n\u001B[0;32m   2062\u001B[0m             \u001B[38;5;124mf\u001B[39m\u001B[38;5;124m\"\u001B[39m\u001B[38;5;124m (\u001B[39m\u001B[38;5;132;01m{\u001B[39;00m\u001B[38;5;28mlen\u001B[39m(locator\u001B[38;5;241m.\u001B[39mlocs)\u001B[38;5;132;01m}\u001B[39;00m\u001B[38;5;124m), usually from a call to\u001B[39m\u001B[38;5;124m\"\u001B[39m\n\u001B[0;32m   2063\u001B[0m             \u001B[38;5;124m\"\u001B[39m\u001B[38;5;124m set_ticks, does not match\u001B[39m\u001B[38;5;124m\"\u001B[39m\n\u001B[0;32m   2064\u001B[0m             \u001B[38;5;124mf\u001B[39m\u001B[38;5;124m\"\u001B[39m\u001B[38;5;124m the number of labels (\u001B[39m\u001B[38;5;132;01m{\u001B[39;00m\u001B[38;5;28mlen\u001B[39m(labels)\u001B[38;5;132;01m}\u001B[39;00m\u001B[38;5;124m).\u001B[39m\u001B[38;5;124m\"\u001B[39m)\n\u001B[0;32m   2065\u001B[0m     tickd \u001B[38;5;241m=\u001B[39m {loc: lab \u001B[38;5;28;01mfor\u001B[39;00m loc, lab \u001B[38;5;129;01min\u001B[39;00m \u001B[38;5;28mzip\u001B[39m(locator\u001B[38;5;241m.\u001B[39mlocs, labels)}\n\u001B[0;32m   2066\u001B[0m     func \u001B[38;5;241m=\u001B[39m functools\u001B[38;5;241m.\u001B[39mpartial(\u001B[38;5;28mself\u001B[39m\u001B[38;5;241m.\u001B[39m_format_with_dict, tickd)\n",
      "\u001B[1;31mValueError\u001B[0m: The number of FixedLocator locations (1), usually from a call to set_ticks, does not match the number of labels (10)."
     ]
    },
    {
     "data": {
      "text/plain": [
       "<Figure size 1000x1000 with 2 Axes>"
      ],
      "image/png": "[encoded data removed]"
     },
     "metadata": {},
     "output_type": "display_data"
    }
   ],
   "execution_count": 30
  },
  {
   "metadata": {
    "ExecuteTime": {
     "end_time": "2024-05-21T09:38:25.635467Z",
     "start_time": "2024-05-21T09:38:21.156964Z"
    }
   },
   "cell_type": "code",
   "source": "model.save_pretrained('path_to_save_model')\n",
   "id": "b75372693de338e5",
   "outputs": [],
   "execution_count": 32
  },
  {
   "metadata": {
    "ExecuteTime": {
     "end_time": "2024-05-22T11:29:04.606505Z",
     "start_time": "2024-05-22T11:28:58.917912Z"
    }
   },
   "cell_type": "code",
   "source": [
    "import torch\n",
    "from torchvision import transforms\n",
    "from PIL import Image\n",
    "from transformers import ViTForImageClassification\n",
    "\n",
    "# Ensure we use a GPU if available\n",
    "device = torch.device('cuda' if torch.cuda.is_available() else 'cpu')\n",
    "\n",
    "# Define transformations for the images\n",
    "transform = transforms.Compose([\n",
    "    transforms.Resize((224, 224)),\n",
    "    transforms.ToTensor(),\n",
    "    transforms.Normalize(mean=[0.485, 0.456, 0.406], std=[0.229, 0.224, 0.225]),\n",
    "])\n",
    "\n",
    "# Load the trained ViT model\n",
    "model = ViTForImageClassification.from_pretrained('.ipynb_checkpoints/vit_model.pth', num_labels=num_classes)\n",
    "model = model.to(device)\n",
    "\n",
    "# Example class names (should match the class names used in your training)\n",
    "class_names = [\n",
    "    'Tomato___Bacterial_spot',\n",
    "    'Tomato___Early_blight',\n",
    "    'Tomato___healthy',\n",
    "    'Tomato___Late_blight',\n",
    "    'Tomato___Leaf_Mold',\n",
    "    'Tomato___Septoria_leaf_spot',\n",
    "    'Tomato___Spider_mites Two-spotted_spider_mite',\n",
    "    'Tomato___Target_Spot',\n",
    "    'Tomato___Tomato_mosaic_virus',\n",
    "    'Tomato___Tomato_Yellow_Leaf_Curl_Virus'\n",
    "]\n",
    "\n",
    "# Prediction function\n",
    "def predict_disease(model, image_path, transform, class_names, device):\n",
    "    model.eval()\n",
    "    image = Image.open(image_path).convert('RGB')\n",
    "    image = transform(image).unsqueeze(0).to(device)\n",
    "    \n",
    "    with torch.no_grad():\n",
    "        outputs = model(image).logits\n",
    "        _, preds = torch.max(outputs, 1)\n",
    "    \n",
    "    return class_names[preds.item()]\n",
    "\n",
    "# Test function\n",
    "def test_model_on_image(model, image_path, transform, class_names, device):\n",
    "    prediction = predict_disease(model, image_path, transform, class_names, device)\n",
    "    print(f'Predicted disease: {prediction}')\n",
    "\n",
    "# Example usage\n",
    "image_path = 'D:\\\\Publish Paper\\\\Dataset plant\\\\PlantDiseasesDataset\\\\valid\\\\Tomato___healthy\\\\00bce074-967b-4d50-967a-31fdaa35e688___RS_HL 0223_flipTB.JPG'  \n",
    "test_model_on_image(model, image_path, transform, class_names, device)\n"
   ],
   "id": "c9f56a9acbc48f72",
   "outputs": [
    {
     "ename": "NameError",
     "evalue": "name 'num_classes' is not defined",
     "output_type": "error",
     "traceback": [
      "\u001B[1;31m---------------------------------------------------------------------------\u001B[0m",
      "\u001B[1;31mNameError\u001B[0m                                 Traceback (most recent call last)",
      "Cell \u001B[1;32mIn[1], line 17\u001B[0m\n\u001B[0;32m     10\u001B[0m transform \u001B[38;5;241m=\u001B[39m transforms\u001B[38;5;241m.\u001B[39mCompose([\n\u001B[0;32m     11\u001B[0m     transforms\u001B[38;5;241m.\u001B[39mResize((\u001B[38;5;241m224\u001B[39m, \u001B[38;5;241m224\u001B[39m)),\n\u001B[0;32m     12\u001B[0m     transforms\u001B[38;5;241m.\u001B[39mToTensor(),\n\u001B[0;32m     13\u001B[0m     transforms\u001B[38;5;241m.\u001B[39mNormalize(mean\u001B[38;5;241m=\u001B[39m[\u001B[38;5;241m0.485\u001B[39m, \u001B[38;5;241m0.456\u001B[39m, \u001B[38;5;241m0.406\u001B[39m], std\u001B[38;5;241m=\u001B[39m[\u001B[38;5;241m0.229\u001B[39m, \u001B[38;5;241m0.224\u001B[39m, \u001B[38;5;241m0.225\u001B[39m]),\n\u001B[0;32m     14\u001B[0m ])\n\u001B[0;32m     16\u001B[0m \u001B[38;5;66;03m# Load the trained ViT model\u001B[39;00m\n\u001B[1;32m---> 17\u001B[0m model \u001B[38;5;241m=\u001B[39m ViTForImageClassification\u001B[38;5;241m.\u001B[39mfrom_pretrained(\u001B[38;5;124m'\u001B[39m\u001B[38;5;124m.ipynb_checkpoints/vit_model.pth\u001B[39m\u001B[38;5;124m'\u001B[39m, num_labels\u001B[38;5;241m=\u001B[39m\u001B[43mnum_classes\u001B[49m)\n\u001B[0;32m     18\u001B[0m model \u001B[38;5;241m=\u001B[39m model\u001B[38;5;241m.\u001B[39mto(device)\n\u001B[0;32m     20\u001B[0m \u001B[38;5;66;03m# Example class names (should match the class names used in your training)\u001B[39;00m\n",
      "\u001B[1;31mNameError\u001B[0m: name 'num_classes' is not defined"
     ]
    }
   ],
   "execution_count": 1
  },
  {
   "metadata": {},
   "cell_type": "code",
   "source": "",
   "id": "889979f44da66e0b",
   "outputs": [],
   "execution_count": null
  },
  {
   "metadata": {},
   "cell_type": "code",
   "outputs": [],
   "execution_count": null,
   "source": "",
   "id": "e514b8cf141b12ea"
  }
 ],
 "metadata": {
  "kernelspec": {
   "display_name": "Python 3",
   "language": "python",
   "name": "python3"
  },
  "language_info": {
   "codemirror_mode": {
    "name": "ipython",
    "version": 2
   },
   "file_extension": ".py",
   "mimetype": "text/x-python",
   "name": "python",
   "nbconvert_exporter": "python",
   "pygments_lexer": "ipython2",
   "version": "2.7.6"
  }
 },
 "nbformat": 4,
 "nbformat_minor": 5
}
