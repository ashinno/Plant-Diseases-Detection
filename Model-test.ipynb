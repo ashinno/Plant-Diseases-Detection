{
 "cells": [
  {
   "cell_type": "code",
   "id": "initial_id",
   "metadata": {
    "collapsed": true,
    "ExecuteTime": {
     "end_time": "2024-06-01T04:33:56.915235Z",
     "start_time": "2024-06-01T04:33:56.913486Z"
    }
   },
   "source": [
    ""
   ],
   "outputs": [],
   "execution_count": null
  },
  {
   "metadata": {
    "ExecuteTime": {
     "end_time": "2024-06-01T04:34:03.546541Z",
     "start_time": "2024-06-01T04:33:56.916243Z"
    }
   },
   "cell_type": "code",
   "source": [
    "import torch\n",
    "from torchvision import transforms\n",
    "from PIL import Image\n",
    "import matplotlib.pyplot as plt\n",
    "import numpy as np\n",
    "import seaborn as sns\n",
    "from sklearn.metrics import confusion_matrix, classification_report, accuracy_score\n",
    "from transformers import ViTModel, ViTConfig\n",
    "\n",
    "# Load the trained model\n",
    "class CustomModel(nn.Module):\n",
    "    def __init__(self, vit_model):\n",
    "        super(CustomModel, self).__init__()\n",
    "        self.vit_model = vit_model\n",
    "        self.fc = nn.Linear(config.hidden_size, 10)  # Assuming 10 classes\n",
    "\n",
    "    def forward(self, x):\n",
    "        outputs = self.vit_model(x).pooler_output\n",
    "        x = self.fc(outputs)\n",
    "        return x\n",
    "\n",
    "# Configuration for ViT\n",
    "config = ViTConfig.from_pretrained('google/vit-base-patch16-224')\n",
    "vit_model = ViTModel(config)\n",
    "model = CustomModel(vit_model)\n",
    "\n",
    "# Load the best model\n",
    "model.load_state_dict(torch.load('best_model.pth'))\n",
    "model.eval()\n",
    "\n",
    "# Define transforms for the test data\n",
    "test_transforms = transforms.Compose([\n",
    "    transforms.Resize((224, 224)),\n",
    "    transforms.ToTensor(),\n",
    "    transforms.Normalize([0.485, 0.456, 0.406], [0.229, 0.224, 0.225])\n",
    "])\n",
    "\n",
    "# Load the test dataset\n",
    "test_path = 'D:/Publish Paper/Dataset plant/test/test'  # Update with your test data path\n",
    "test_data = datasets.ImageFolder(test_path, transform=test_transforms)\n",
    "test_loader = DataLoader(test_data, batch_size=32, shuffle=False)\n",
    "\n",
    "# List to store true labels and predictions\n",
    "all_labels = []\n",
    "all_preds = []\n",
    "\n",
    "# Make predictions\n",
    "with torch.no_grad():\n",
    "    for images, labels in test_loader:\n",
    "        outputs = model(images)\n",
    "        _, predicted = torch.max(outputs.data, 1)\n",
    "        all_labels.extend(labels.cpu().numpy())\n",
    "        all_preds.extend(predicted.cpu().numpy())\n",
    "\n",
    "# Compute confusion matrix\n",
    "conf_matrix = confusion_matrix(all_labels, all_preds)\n",
    "plt.figure(figsize=(10, 8))\n",
    "sns.heatmap(conf_matrix, annot=True, fmt='d', cmap='Blues', xticklabels=test_data.classes, yticklabels=test_data.classes)\n",
    "plt.xlabel('Predicted Labels')\n",
    "plt.ylabel('True Labels')\n",
    "plt.title('Confusion Matrix')\n",
    "plt.show()\n",
    "\n",
    "# Print classification report\n",
    "class_names = test_data.classes\n",
    "print(classification_report(all_labels, all_preds, target_names=class_names))\n",
    "\n",
    "# Compute overall accuracy\n",
    "accuracy = accuracy_score(all_labels, all_preds)\n",
    "print(f'Overall Accuracy: {accuracy * 100}%')\n",
    "\n",
    "# Function to predict and visualize a single image\n",
    "def predict_image(image_path):\n",
    "    image = Image.open(image_path).convert('RGB')\n",
    "    image_tensor = test_transforms(image).unsqueeze(0)\n",
    "    with torch.no_grad():\n",
    "        output = model(image_tensor)\n",
    "        _, predicted = torch.max(output.data, 1)\n",
    "    class_name = class_names[predicted.item()]\n",
    "    \n",
    "    plt.imshow(image)\n",
    "    plt.title(f'Predicted: {class_name}')\n",
    "    plt.show()\n",
    "\n",
    "# Test the function with a sample image\n",
    "sample_image_path = '\"D:/Publish Paper/Dataset plant/test/test/TomatoYellowCurlVirus2.JPG\"'  # Update with the path to a sample image\n",
    "predict_image(sample_image_path)\n"
   ],
   "id": "d4cce0fcf2335b3",
   "outputs": [
    {
     "ename": "NameError",
     "evalue": "name 'nn' is not defined",
     "output_type": "error",
     "traceback": [
      "\u001B[1;31m---------------------------------------------------------------------------\u001B[0m",
      "\u001B[1;31mNameError\u001B[0m                                 Traceback (most recent call last)",
      "Cell \u001B[1;32mIn[1], line 11\u001B[0m\n\u001B[0;32m      8\u001B[0m \u001B[38;5;28;01mfrom\u001B[39;00m \u001B[38;5;21;01mtransformers\u001B[39;00m \u001B[38;5;28;01mimport\u001B[39;00m ViTModel, ViTConfig\n\u001B[0;32m     10\u001B[0m \u001B[38;5;66;03m# Load the trained model\u001B[39;00m\n\u001B[1;32m---> 11\u001B[0m \u001B[38;5;28;01mclass\u001B[39;00m \u001B[38;5;21;01mCustomModel\u001B[39;00m(\u001B[43mnn\u001B[49m\u001B[38;5;241m.\u001B[39mModule):\n\u001B[0;32m     12\u001B[0m     \u001B[38;5;28;01mdef\u001B[39;00m \u001B[38;5;21m__init__\u001B[39m(\u001B[38;5;28mself\u001B[39m, vit_model):\n\u001B[0;32m     13\u001B[0m         \u001B[38;5;28msuper\u001B[39m(CustomModel, \u001B[38;5;28mself\u001B[39m)\u001B[38;5;241m.\u001B[39m\u001B[38;5;21m__init__\u001B[39m()\n",
      "\u001B[1;31mNameError\u001B[0m: name 'nn' is not defined"
     ]
    }
   ],
   "execution_count": 1
  }
 ],
 "metadata": {
  "kernelspec": {
   "display_name": "Python 3",
   "language": "python",
   "name": "python3"
  },
  "language_info": {
   "codemirror_mode": {
    "name": "ipython",
    "version": 2
   },
   "file_extension": ".py",
   "mimetype": "text/x-python",
   "name": "python",
   "nbconvert_exporter": "python",
   "pygments_lexer": "ipython2",
   "version": "2.7.6"
  }
 },
 "nbformat": 4,
 "nbformat_minor": 5
}
