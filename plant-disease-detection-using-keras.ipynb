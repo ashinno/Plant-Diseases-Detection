{
 "cells": [
  {
   "metadata": {
    "_uuid": "1020827e241ac87ffdf8e0f8762a6885bdc28fbc"
   },
   "cell_type": "markdown",
   "source": "Import neccessary packages"
  },
  {
   "metadata": {
    "_uuid": "8f2839f25d086af736a60e9eeb907d3b93b6e0e5",
    "_cell_guid": "b1076dfc-b9ad-4769-8c92-a6c4dae69d19",
    "trusted": true,
    "ExecuteTime": {
     "end_time": "2024-05-17T06:11:57.629319Z",
     "start_time": "2024-05-17T06:11:57.625096Z"
    }
   },
   "cell_type": "code",
   "source": [
    "import numpy as np\n",
    "import pickle\n",
    "import cv2\n",
    "from os import listdir\n",
    "from sklearn.preprocessing import LabelBinarizer\n",
    "from tensorflow.keras.models import Sequential\n",
    "from tensorflow.keras.layers import BatchNormalization, Conv2D, MaxPooling2D, Activation, Flatten, Dropout, Dense\n",
    "from tensorflow.keras.preprocessing.image import ImageDataGenerator\n",
    "from tensorflow.keras.optimizers import Adam\n",
    "from tensorflow.keras.preprocessing.image import img_to_array\n",
    "from sklearn.preprocessing import MultiLabelBinarizer\n",
    "from sklearn.model_selection import train_test_split\n",
    "import matplotlib.pyplot as plt\n"
   ],
   "outputs": [],
   "execution_count": 101
  },
  {
   "metadata": {
    "trusted": true,
    "_uuid": "7c3354a78e21a1a62ad0c4689d0ab3238fb760d4",
    "ExecuteTime": {
     "end_time": "2024-05-17T06:11:57.676781Z",
     "start_time": "2024-05-17T06:11:57.672873Z"
    }
   },
   "cell_type": "code",
   "source": [
    "EPOCHS = 25\n",
    "INIT_LR = 1e-3\n",
    "BS = 32\n",
    "default_image_size = tuple((256, 256))\n",
    "image_size = 0\n",
    "directory_root = '/PlantVillage/'\n",
    "width=256\n",
    "height=256\n",
    "depth=3"
   ],
   "outputs": [],
   "execution_count": 102
  },
  {
   "metadata": {
    "_uuid": "2bf7ac0a0b805946f844a48e55d5281403e53f57"
   },
   "cell_type": "markdown",
   "source": "Function to convert images to array"
  },
  {
   "metadata": {
    "trusted": true,
    "_uuid": "c9c3e60b13ace6c8f3e54336e12f9970fde438a3",
    "ExecuteTime": {
     "end_time": "2024-05-17T06:11:57.688096Z",
     "start_time": "2024-05-17T06:11:57.683812Z"
    }
   },
   "cell_type": "code",
   "source": "def convert_image_to_array(image_dir):\n    try:\n        image = cv2.imread(image_dir)\n        if image is not None :\n            image = cv2.resize(image, default_image_size)   \n            return img_to_array(image)\n        else :\n            return np.array([])\n    except Exception as e:\n        print(f\"Error : {e}\")\n        return None",
   "outputs": [],
   "execution_count": 103
  },
  {
   "metadata": {
    "_uuid": "24d42b87fad54a9556f78357ce673cc5152468c1"
   },
   "cell_type": "markdown",
   "source": "Fetch images from directory"
  },
  {
   "metadata": {
    "trusted": true,
    "_uuid": "bb8d4c343314028f52ae3c3a840478a834a16c95",
    "ExecuteTime": {
     "end_time": "2024-05-17T06:11:57.763079Z",
     "start_time": "2024-05-17T06:11:57.689622Z"
    }
   },
   "cell_type": "code",
   "source": "image_list, label_list = [], []\ntry:\n    print(\"[INFO] Loading images ...\")\n    root_dir = listdir(directory_root)\n    for directory in root_dir :\n        # remove .DS_Store from list\n        if directory == \".DS_Store\" :\n            root_dir.remove(directory)\n\n    for plant_folder in root_dir :\n        plant_disease_folder_list = listdir(f\"{directory_root}/{plant_folder}\")\n        \n        for disease_folder in plant_disease_folder_list :\n            # remove .DS_Store from list\n            if disease_folder == \".DS_Store\" :\n                plant_disease_folder_list.remove(disease_folder)\n\n        for plant_disease_folder in plant_disease_folder_list:\n            print(f\"[INFO] Processing {plant_disease_folder} ...\")\n            plant_disease_image_list = listdir(f\"{directory_root}/{plant_folder}/{plant_disease_folder}/\")\n                \n            for single_plant_disease_image in plant_disease_image_list :\n                if single_plant_disease_image == \".DS_Store\" :\n                    plant_disease_image_list.remove(single_plant_disease_image)\n\n            for image in plant_disease_image_list[:200]:\n                image_directory = f\"{directory_root}/{plant_folder}/{plant_disease_folder}/{image}\"\n                if image_directory.endswith(\".jpg\") == True or image_directory.endswith(\".JPG\") == True:\n                    image_list.append(convert_image_to_array(image_directory))\n                    label_list.append(plant_disease_folder)\n    print(\"[INFO] Image loading completed\")  \nexcept Exception as e:\n    print(f\"Error : {e}\")",
   "outputs": [
    {
     "name": "stdout",
     "output_type": "stream",
     "text": [
      "[INFO] Loading images ...\n",
      "Error : [WinError 3] The system cannot find the path specified: '/PlantVillage/'\n"
     ]
    }
   ],
   "execution_count": 104
  },
  {
   "metadata": {
    "_uuid": "35c4b76d33e0263523e479657580104532f81d6e"
   },
   "cell_type": "markdown",
   "source": "Get Size of Processed Image"
  },
  {
   "metadata": {
    "trusted": true,
    "_uuid": "6ee1ad9c422f112ec2862699b5c0f68b8d658123",
    "ExecuteTime": {
     "end_time": "2024-05-17T06:11:57.770484Z",
     "start_time": "2024-05-17T06:11:57.764455Z"
    }
   },
   "cell_type": "code",
   "source": "image_size = len(image_list)",
   "outputs": [],
   "execution_count": 105
  },
  {
   "metadata": {
    "_uuid": "905b41b226f3fd82a88e67821eb42a07f24b31f7"
   },
   "cell_type": "markdown",
   "source": "Transform Image Labels uisng [Scikit Learn](http://scikit-learn.org/)'s LabelBinarizer"
  },
  {
   "metadata": {
    "trusted": true,
    "_uuid": "904ff893fe14f5060dd9e7be2ccf96ec793597e5",
    "ExecuteTime": {
     "end_time": "2024-05-17T06:11:57.809773Z",
     "start_time": "2024-05-17T06:11:57.771Z"
    }
   },
   "cell_type": "code",
   "source": "label_binarizer = LabelBinarizer()\nimage_labels = label_binarizer.fit_transform(label_list)\npickle.dump(label_binarizer,open('label_transform.pkl', 'wb'))\nn_classes = len(label_binarizer.classes_)",
   "outputs": [
    {
     "ename": "ValueError",
     "evalue": "y has 0 samples: []",
     "output_type": "error",
     "traceback": [
      "\u001B[1;31m---------------------------------------------------------------------------\u001B[0m",
      "\u001B[1;31mValueError\u001B[0m                                Traceback (most recent call last)",
      "Cell \u001B[1;32mIn[106], line 2\u001B[0m\n\u001B[0;32m      1\u001B[0m label_binarizer \u001B[38;5;241m=\u001B[39m LabelBinarizer()\n\u001B[1;32m----> 2\u001B[0m image_labels \u001B[38;5;241m=\u001B[39m \u001B[43mlabel_binarizer\u001B[49m\u001B[38;5;241;43m.\u001B[39;49m\u001B[43mfit_transform\u001B[49m\u001B[43m(\u001B[49m\u001B[43mlabel_list\u001B[49m\u001B[43m)\u001B[49m\n\u001B[0;32m      3\u001B[0m pickle\u001B[38;5;241m.\u001B[39mdump(label_binarizer,\u001B[38;5;28mopen\u001B[39m(\u001B[38;5;124m'\u001B[39m\u001B[38;5;124mlabel_transform.pkl\u001B[39m\u001B[38;5;124m'\u001B[39m, \u001B[38;5;124m'\u001B[39m\u001B[38;5;124mwb\u001B[39m\u001B[38;5;124m'\u001B[39m))\n\u001B[0;32m      4\u001B[0m n_classes \u001B[38;5;241m=\u001B[39m \u001B[38;5;28mlen\u001B[39m(label_binarizer\u001B[38;5;241m.\u001B[39mclasses_)\n",
      "File \u001B[1;32mD:\\Publish Paper\\ML in Cyber_ash\\Plant_disease_detector\\.venv\\Lib\\site-packages\\sklearn\\preprocessing\\_label.py:329\u001B[0m, in \u001B[0;36mLabelBinarizer.fit_transform\u001B[1;34m(self, y)\u001B[0m\n\u001B[0;32m    309\u001B[0m \u001B[38;5;28;01mdef\u001B[39;00m \u001B[38;5;21mfit_transform\u001B[39m(\u001B[38;5;28mself\u001B[39m, y):\n\u001B[0;32m    310\u001B[0m \u001B[38;5;250m    \u001B[39m\u001B[38;5;124;03m\"\"\"Fit label binarizer/transform multi-class labels to binary labels.\u001B[39;00m\n\u001B[0;32m    311\u001B[0m \n\u001B[0;32m    312\u001B[0m \u001B[38;5;124;03m    The output of transform is sometimes referred to as\u001B[39;00m\n\u001B[1;32m   (...)\u001B[0m\n\u001B[0;32m    327\u001B[0m \u001B[38;5;124;03m        will be of CSR format.\u001B[39;00m\n\u001B[0;32m    328\u001B[0m \u001B[38;5;124;03m    \"\"\"\u001B[39;00m\n\u001B[1;32m--> 329\u001B[0m     \u001B[38;5;28;01mreturn\u001B[39;00m \u001B[38;5;28;43mself\u001B[39;49m\u001B[38;5;241;43m.\u001B[39;49m\u001B[43mfit\u001B[49m\u001B[43m(\u001B[49m\u001B[43my\u001B[49m\u001B[43m)\u001B[49m\u001B[38;5;241m.\u001B[39mtransform(y)\n",
      "File \u001B[1;32mD:\\Publish Paper\\ML in Cyber_ash\\Plant_disease_detector\\.venv\\Lib\\site-packages\\sklearn\\base.py:1474\u001B[0m, in \u001B[0;36m_fit_context.<locals>.decorator.<locals>.wrapper\u001B[1;34m(estimator, *args, **kwargs)\u001B[0m\n\u001B[0;32m   1467\u001B[0m     estimator\u001B[38;5;241m.\u001B[39m_validate_params()\n\u001B[0;32m   1469\u001B[0m \u001B[38;5;28;01mwith\u001B[39;00m config_context(\n\u001B[0;32m   1470\u001B[0m     skip_parameter_validation\u001B[38;5;241m=\u001B[39m(\n\u001B[0;32m   1471\u001B[0m         prefer_skip_nested_validation \u001B[38;5;129;01mor\u001B[39;00m global_skip_validation\n\u001B[0;32m   1472\u001B[0m     )\n\u001B[0;32m   1473\u001B[0m ):\n\u001B[1;32m-> 1474\u001B[0m     \u001B[38;5;28;01mreturn\u001B[39;00m \u001B[43mfit_method\u001B[49m\u001B[43m(\u001B[49m\u001B[43mestimator\u001B[49m\u001B[43m,\u001B[49m\u001B[43m \u001B[49m\u001B[38;5;241;43m*\u001B[39;49m\u001B[43margs\u001B[49m\u001B[43m,\u001B[49m\u001B[43m \u001B[49m\u001B[38;5;241;43m*\u001B[39;49m\u001B[38;5;241;43m*\u001B[39;49m\u001B[43mkwargs\u001B[49m\u001B[43m)\u001B[49m\n",
      "File \u001B[1;32mD:\\Publish Paper\\ML in Cyber_ash\\Plant_disease_detector\\.venv\\Lib\\site-packages\\sklearn\\preprocessing\\_label.py:303\u001B[0m, in \u001B[0;36mLabelBinarizer.fit\u001B[1;34m(self, y)\u001B[0m\n\u001B[0;32m    299\u001B[0m     \u001B[38;5;28;01mraise\u001B[39;00m \u001B[38;5;167;01mValueError\u001B[39;00m(\n\u001B[0;32m    300\u001B[0m         \u001B[38;5;124m\"\u001B[39m\u001B[38;5;124mMultioutput target data is not supported with label binarization\u001B[39m\u001B[38;5;124m\"\u001B[39m\n\u001B[0;32m    301\u001B[0m     )\n\u001B[0;32m    302\u001B[0m \u001B[38;5;28;01mif\u001B[39;00m _num_samples(y) \u001B[38;5;241m==\u001B[39m \u001B[38;5;241m0\u001B[39m:\n\u001B[1;32m--> 303\u001B[0m     \u001B[38;5;28;01mraise\u001B[39;00m \u001B[38;5;167;01mValueError\u001B[39;00m(\u001B[38;5;124m\"\u001B[39m\u001B[38;5;124my has 0 samples: \u001B[39m\u001B[38;5;132;01m%r\u001B[39;00m\u001B[38;5;124m\"\u001B[39m \u001B[38;5;241m%\u001B[39m y)\n\u001B[0;32m    305\u001B[0m \u001B[38;5;28mself\u001B[39m\u001B[38;5;241m.\u001B[39msparse_input_ \u001B[38;5;241m=\u001B[39m sp\u001B[38;5;241m.\u001B[39missparse(y)\n\u001B[0;32m    306\u001B[0m \u001B[38;5;28mself\u001B[39m\u001B[38;5;241m.\u001B[39mclasses_ \u001B[38;5;241m=\u001B[39m unique_labels(y)\n",
      "\u001B[1;31mValueError\u001B[0m: y has 0 samples: []"
     ]
    }
   ],
   "execution_count": 106
  },
  {
   "metadata": {
    "_uuid": "f860c29a1d714f06d25e6a0c5bca94739e5d24cc"
   },
   "cell_type": "markdown",
   "source": "Print the classes"
  },
  {
   "metadata": {
    "trusted": true,
    "_uuid": "0f876397c40c3c8aa09772a92fd60481fc9ba268"
   },
   "cell_type": "code",
   "source": "print(label_binarizer.classes_)",
   "outputs": [],
   "execution_count": null
  },
  {
   "metadata": {
    "trusted": true,
    "_uuid": "6cd9c977b3d164a5570a0c24fdd8624adb9d56b8",
    "ExecuteTime": {
     "end_time": "2024-05-17T06:11:57.813201Z",
     "start_time": "2024-05-17T06:11:57.812189Z"
    }
   },
   "cell_type": "code",
   "source": "np_image_list = np.array(image_list, dtype=np.float16) / 225.0",
   "outputs": [],
   "execution_count": null
  },
  {
   "metadata": {
    "trusted": true,
    "_uuid": "9f4829560fdfa218cee18c1cfb2eb9452ef180e5"
   },
   "cell_type": "code",
   "source": "print(\"[INFO] Spliting data to train, test\")\nx_train, x_test, y_train, y_test = train_test_split(np_image_list, image_labels, test_size=0.2, random_state = 42) ",
   "outputs": [],
   "execution_count": null
  },
  {
   "metadata": {
    "trusted": true,
    "_uuid": "eec8afa64e676d52c814fc8e096955a60f13b6c5"
   },
   "cell_type": "code",
   "source": "aug = ImageDataGenerator(\n    rotation_range=25, width_shift_range=0.1,\n    height_shift_range=0.1, shear_range=0.2, \n    zoom_range=0.2,horizontal_flip=True, \n    fill_mode=\"nearest\")",
   "outputs": [],
   "execution_count": null
  },
  {
   "metadata": {
    "_cell_guid": "79c7e3d0-c299-4dcb-8224-4455121ee9b0",
    "_uuid": "d629ff2d2480ee46fbb7e2d37f6b5fab8052498a",
    "trusted": true
   },
   "cell_type": "code",
   "source": "model = Sequential()\ninputShape = (height, width, depth)\nchanDim = -1\nif K.image_data_format() == \"channels_first\":\n    inputShape = (depth, height, width)\n    chanDim = 1\nmodel.add(Conv2D(32, (3, 3), padding=\"same\",input_shape=inputShape))\nmodel.add(Activation(\"relu\"))\nmodel.add(BatchNormalization(axis=chanDim))\nmodel.add(MaxPooling2D(pool_size=(3, 3)))\nmodel.add(Dropout(0.25))\nmodel.add(Conv2D(64, (3, 3), padding=\"same\"))\nmodel.add(Activation(\"relu\"))\nmodel.add(BatchNormalization(axis=chanDim))\nmodel.add(Conv2D(64, (3, 3), padding=\"same\"))\nmodel.add(Activation(\"relu\"))\nmodel.add(BatchNormalization(axis=chanDim))\nmodel.add(MaxPooling2D(pool_size=(2, 2)))\nmodel.add(Dropout(0.25))\nmodel.add(Conv2D(128, (3, 3), padding=\"same\"))\nmodel.add(Activation(\"relu\"))\nmodel.add(BatchNormalization(axis=chanDim))\nmodel.add(Conv2D(128, (3, 3), padding=\"same\"))\nmodel.add(Activation(\"relu\"))\nmodel.add(BatchNormalization(axis=chanDim))\nmodel.add(MaxPooling2D(pool_size=(2, 2)))\nmodel.add(Dropout(0.25))\nmodel.add(Flatten())\nmodel.add(Dense(1024))\nmodel.add(Activation(\"relu\"))\nmodel.add(BatchNormalization())\nmodel.add(Dropout(0.5))\nmodel.add(Dense(n_classes))\nmodel.add(Activation(\"softmax\"))",
   "outputs": [],
   "execution_count": null
  },
  {
   "metadata": {
    "_uuid": "53b13c03e4cea6dc2453a84e254b806ebeed2d99"
   },
   "cell_type": "markdown",
   "source": "Model Summary"
  },
  {
   "metadata": {
    "trusted": true,
    "_uuid": "1e1523a834fbf872940171fbdefb3dcce2b5f31b"
   },
   "cell_type": "code",
   "source": "model.summary()",
   "outputs": [],
   "execution_count": null
  },
  {
   "metadata": {
    "trusted": true,
    "_uuid": "b21dffee32c325136b4ea23ac511049723f34a24"
   },
   "cell_type": "code",
   "source": "opt = Adam(lr=INIT_LR, decay=INIT_LR / EPOCHS)\n# distribution\nmodel.compile(loss=\"binary_crossentropy\", optimizer=opt,metrics=[\"accuracy\"])\n# train the network\nprint(\"[INFO] training network...\")",
   "outputs": [],
   "execution_count": null
  },
  {
   "metadata": {
    "trusted": true,
    "_uuid": "1a13efc5ded339fc3c0d9e61041e8ca555362db0",
    "ExecuteTime": {
     "end_time": "2024-05-17T06:11:57.847230Z",
     "start_time": "2024-05-17T06:11:57.827677Z"
    }
   },
   "cell_type": "code",
   "source": "history = model.fit_generator(\n    aug.flow(x_train, y_train, batch_size=BS),\n    validation_data=(x_test, y_test),\n    steps_per_epoch=len(x_train) // BS,\n    epochs=EPOCHS, verbose=1\n    )",
   "outputs": [
    {
     "ename": "AttributeError",
     "evalue": "'Sequential' object has no attribute 'fit_generator'",
     "output_type": "error",
     "traceback": [
      "\u001B[1;31m---------------------------------------------------------------------------\u001B[0m",
      "\u001B[1;31mAttributeError\u001B[0m                            Traceback (most recent call last)",
      "Cell \u001B[1;32mIn[107], line 1\u001B[0m\n\u001B[1;32m----> 1\u001B[0m history \u001B[38;5;241m=\u001B[39m \u001B[43mmodel\u001B[49m\u001B[38;5;241;43m.\u001B[39;49m\u001B[43mfit_generator\u001B[49m(\n\u001B[0;32m      2\u001B[0m     aug\u001B[38;5;241m.\u001B[39mflow(x_train, y_train, batch_size\u001B[38;5;241m=\u001B[39mBS),\n\u001B[0;32m      3\u001B[0m     validation_data\u001B[38;5;241m=\u001B[39m(x_test, y_test),\n\u001B[0;32m      4\u001B[0m     steps_per_epoch\u001B[38;5;241m=\u001B[39m\u001B[38;5;28mlen\u001B[39m(x_train) \u001B[38;5;241m/\u001B[39m\u001B[38;5;241m/\u001B[39m BS,\n\u001B[0;32m      5\u001B[0m     epochs\u001B[38;5;241m=\u001B[39mEPOCHS, verbose\u001B[38;5;241m=\u001B[39m\u001B[38;5;241m1\u001B[39m\n\u001B[0;32m      6\u001B[0m     )\n",
      "\u001B[1;31mAttributeError\u001B[0m: 'Sequential' object has no attribute 'fit_generator'"
     ]
    }
   ],
   "execution_count": 107
  },
  {
   "metadata": {
    "_uuid": "1495fea08b37e4d4293f975ba30e6c1fc7a85ed9"
   },
   "cell_type": "markdown",
   "source": "Plot the train and val curve"
  },
  {
   "metadata": {
    "trusted": true,
    "_uuid": "0af5e0f23657a4effc2d21cf8e840e81f42ec8e7"
   },
   "cell_type": "code",
   "source": "acc = history.history['acc']\nval_acc = history.history['val_acc']\nloss = history.history['loss']\nval_loss = history.history['val_loss']\nepochs = range(1, len(acc) + 1)\n#Train and validation accuracy\nplt.plot(epochs, acc, 'b', label='Training accurarcy')\nplt.plot(epochs, val_acc, 'r', label='Validation accurarcy')\nplt.title('Training and Validation accurarcy')\nplt.legend()\n\nplt.figure()\n#Train and validation loss\nplt.plot(epochs, loss, 'b', label='Training loss')\nplt.plot(epochs, val_loss, 'r', label='Validation loss')\nplt.title('Training and Validation loss')\nplt.legend()\nplt.show()",
   "outputs": [],
   "execution_count": null
  },
  {
   "metadata": {
    "_uuid": "9ca1a4489bd624c69a13cd37c0c2306ac8de55c2"
   },
   "cell_type": "markdown",
   "source": "Model Accuracy"
  },
  {
   "metadata": {
    "trusted": true,
    "_uuid": "bb44f3d0b7e2862bc7d1a032612ebfd48212c1fe",
    "ExecuteTime": {
     "end_time": "2024-05-17T06:11:57.871730Z",
     "start_time": "2024-05-17T06:11:57.854504Z"
    }
   },
   "cell_type": "code",
   "source": "print(\"[INFO] Calculating model accuracy\")\nscores = model.evaluate(x_test, y_test)\nprint(f\"Test Accuracy: {scores[1]*100}\")",
   "outputs": [
    {
     "name": "stdout",
     "output_type": "stream",
     "text": [
      "[INFO] Calculating model accuracy\n"
     ]
    },
    {
     "ename": "NameError",
     "evalue": "name 'x_test' is not defined",
     "output_type": "error",
     "traceback": [
      "\u001B[1;31m---------------------------------------------------------------------------\u001B[0m",
      "\u001B[1;31mNameError\u001B[0m                                 Traceback (most recent call last)",
      "Cell \u001B[1;32mIn[108], line 2\u001B[0m\n\u001B[0;32m      1\u001B[0m \u001B[38;5;28mprint\u001B[39m(\u001B[38;5;124m\"\u001B[39m\u001B[38;5;124m[INFO] Calculating model accuracy\u001B[39m\u001B[38;5;124m\"\u001B[39m)\n\u001B[1;32m----> 2\u001B[0m scores \u001B[38;5;241m=\u001B[39m model\u001B[38;5;241m.\u001B[39mevaluate(\u001B[43mx_test\u001B[49m, y_test)\n\u001B[0;32m      3\u001B[0m \u001B[38;5;28mprint\u001B[39m(\u001B[38;5;124mf\u001B[39m\u001B[38;5;124m\"\u001B[39m\u001B[38;5;124mTest Accuracy: \u001B[39m\u001B[38;5;132;01m{\u001B[39;00mscores[\u001B[38;5;241m1\u001B[39m]\u001B[38;5;241m*\u001B[39m\u001B[38;5;241m100\u001B[39m\u001B[38;5;132;01m}\u001B[39;00m\u001B[38;5;124m\"\u001B[39m)\n",
      "\u001B[1;31mNameError\u001B[0m: name 'x_test' is not defined"
     ]
    }
   ],
   "execution_count": 108
  },
  {
   "metadata": {
    "_uuid": "2a1f759db8afe933e62fe4cf8332cb303bb11be8"
   },
   "cell_type": "markdown",
   "source": "Save model using Pickle"
  },
  {
   "metadata": {
    "trusted": true,
    "_uuid": "5cdf06adf492d79ed28fbdc36e02ad7489c7b33e",
    "ExecuteTime": {
     "end_time": "2024-05-17T06:11:57.872746Z",
     "start_time": "2024-05-17T06:11:57.872746Z"
    }
   },
   "cell_type": "code",
   "source": "# save the model to disk\nprint(\"[INFO] Saving model...\")\npickle.dump(model,open('cnn_model.pkl', 'wb'))",
   "outputs": [],
   "execution_count": null
  }
 ],
 "metadata": {
  "kernelspec": {
   "display_name": "Python 3",
   "language": "python",
   "name": "python3"
  },
  "language_info": {
   "name": "python",
   "version": "3.6.6",
   "mimetype": "text/x-python",
   "codemirror_mode": {
    "name": "ipython",
    "version": 3
   },
   "pygments_lexer": "ipython3",
   "nbconvert_exporter": "python",
   "file_extension": ".py"
  }
 },
 "nbformat": 4,
 "nbformat_minor": 1
}
